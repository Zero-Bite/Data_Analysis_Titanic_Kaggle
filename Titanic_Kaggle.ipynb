{
  "nbformat": 4,
  "nbformat_minor": 0,
  "metadata": {
    "colab": {
      "private_outputs": true,
      "provenance": [],
      "authorship_tag": "ABX9TyPzH4HKbzPYnlx71HHMThSO",
      "include_colab_link": true
    },
    "kernelspec": {
      "name": "python3",
      "display_name": "Python 3"
    },
    "language_info": {
      "name": "python"
    }
  },
  "cells": [
    {
      "cell_type": "markdown",
      "metadata": {
        "id": "view-in-github",
        "colab_type": "text"
      },
      "source": [
        "<a href=\"https://colab.research.google.com/github/Zero-Bite/Data_Analysis_Titanic_Kaggle/blob/main/Titanic_Kaggle.ipynb\" target=\"_parent\"><img src=\"https://colab.research.google.com/assets/colab-badge.svg\" alt=\"Open In Colab\"/></a>"
      ]
    },
    {
      "cell_type": "markdown",
      "source": [
        "Работа с классическим датасетом \"Titanic - Machine Learning from Disaster\"\n",
        "\n",
        "https://www.kaggle.com/c/titanic/data"
      ],
      "metadata": {
        "id": "jfu9bZA4ErWI"
      }
    },
    {
      "cell_type": "code",
      "execution_count": null,
      "metadata": {
        "id": "hoTmx8Z8DJ_O"
      },
      "outputs": [],
      "source": [
        "import pandas as pd\n",
        "import matplotlib.pyplot as plt\n",
        "import numpy as np\n",
        "import seaborn as sns"
      ]
    },
    {
      "cell_type": "code",
      "source": [
        "data_titanic = pd.read_csv('/content/titanic_train.csv')"
      ],
      "metadata": {
        "id": "vqK2gALMDP-7"
      },
      "execution_count": null,
      "outputs": []
    },
    {
      "cell_type": "code",
      "source": [
        "data_titanic.head(5)"
      ],
      "metadata": {
        "id": "iK-UcF02DuSI"
      },
      "execution_count": null,
      "outputs": []
    },
    {
      "cell_type": "code",
      "source": [
        "data_titanic.sample(3)"
      ],
      "metadata": {
        "id": "U5920p5kD2iq"
      },
      "execution_count": null,
      "outputs": []
    },
    {
      "cell_type": "markdown",
      "source": [
        "Этап описания данных выполнен автором датасета, поэтому перейдем к следующему этапу EDA - анализ пустых значений и их заполнение"
      ],
      "metadata": {
        "id": "KZMa1XcXFRyV"
      }
    },
    {
      "cell_type": "code",
      "source": [
        "data_titanic.info()"
      ],
      "metadata": {
        "id": "7cfOkIoWFdsA"
      },
      "execution_count": null,
      "outputs": []
    },
    {
      "cell_type": "code",
      "source": [
        "# посчитаем кол-во пустых записей по каждому из признаков.\n",
        "\n",
        "data_titanic.isnull().sum(axis=0) # axis = 0 - сумма по столбцам"
      ],
      "metadata": {
        "id": "zXZoGHeSFgRg"
      },
      "execution_count": null,
      "outputs": []
    },
    {
      "cell_type": "markdown",
      "source": [
        "Признак 'Cabin' содержит в себе категориальные данные, в которых слишком много пропуском 687 из 891. Восстановить данные значения будет невозможно, поэтому удалим данный столбец."
      ],
      "metadata": {
        "id": "qtOgsxpIGNh1"
      }
    },
    {
      "cell_type": "code",
      "source": [
        "data_titanic.drop('Cabin', inplace=True, axis=1)"
      ],
      "metadata": {
        "collapsed": true,
        "id": "vi50x7inGNE7"
      },
      "execution_count": null,
      "outputs": []
    },
    {
      "cell_type": "code",
      "source": [
        "data_titanic.sample(1)"
      ],
      "metadata": {
        "id": "OZHUQXJzFl8d"
      },
      "execution_count": null,
      "outputs": []
    },
    {
      "cell_type": "markdown",
      "source": [
        "Далее обработаем пустые значения в столбце 'Age'. Заполним пропуски медианным значением."
      ],
      "metadata": {
        "id": "v51lm8dXH_zK"
      }
    },
    {
      "cell_type": "code",
      "source": [
        "data_titanic.Age.median() # медиана"
      ],
      "metadata": {
        "id": "iZ1MmfNQG4NF"
      },
      "execution_count": null,
      "outputs": []
    },
    {
      "cell_type": "code",
      "source": [
        "data_titanic.Age.mean() # также проверим среднее"
      ],
      "metadata": {
        "id": "zqhXjXE6Idp0"
      },
      "execution_count": null,
      "outputs": []
    },
    {
      "cell_type": "code",
      "source": [
        "plt.figure(figsize=(10, 10))\n",
        "sns.histplot(data=data_titanic, x='Age', color='purple', kde=True)\n",
        "plt.title('Визуализация возраста пассажиров Титаника')\n",
        "plt.xlabel('Возраст')\n",
        "plt.ylabel('Кол-во пассажиров определенного возраста')\n",
        "plt.grid()\n",
        "plt.show()"
      ],
      "metadata": {
        "id": "8W_RYSNSJMTo"
      },
      "execution_count": null,
      "outputs": []
    },
    {
      "cell_type": "code",
      "source": [
        "plt.figure(figsize=(10, 10))\n",
        "plt.bar(data_titanic.Age.value_counts().index, data_titanic.Age.value_counts().values)\n",
        "plt.title('Визуализация возраста пассажиров Титаника')\n",
        "plt.xlabel('Возраст')\n",
        "plt.ylabel('Кол-во пассажиров определенного возраста')\n",
        "plt.grid()\n",
        "plt.show()"
      ],
      "metadata": {
        "id": "X4V9aWa7KLEv"
      },
      "execution_count": null,
      "outputs": []
    },
    {
      "cell_type": "code",
      "source": [
        "data_titanic.Age.fillna(data_titanic.Age.median(), inplace=True)"
      ],
      "metadata": {
        "id": "hVTVuSXbNpiG"
      },
      "execution_count": null,
      "outputs": []
    },
    {
      "cell_type": "code",
      "source": [
        "plt.figure(figsize=(10, 10))\n",
        "sns.histplot(data=data_titanic, x='Age', color='purple', kde=True)\n",
        "plt.title('Визуализация возраста пассажиров Титаника')\n",
        "plt.xlabel('Возраст')\n",
        "plt.ylabel('Кол-во пассажиров определенного возраста')\n",
        "plt.grid()\n",
        "plt.show()"
      ],
      "metadata": {
        "id": "VfX0H1E8N5Vm"
      },
      "execution_count": null,
      "outputs": []
    },
    {
      "cell_type": "markdown",
      "source": [
        "Также заполним пропуски в признаке 'Embarked'. Так как это категориальный признак и кол-во пропусков крайне мало 2 из 891 => используем самое популярное значение."
      ],
      "metadata": {
        "id": "PHT8WuB5OaiY"
      }
    },
    {
      "cell_type": "code",
      "source": [
        "data_titanic.Embarked.value_counts()"
      ],
      "metadata": {
        "id": "Gn-pH2b6O7XN"
      },
      "execution_count": null,
      "outputs": []
    },
    {
      "cell_type": "code",
      "source": [
        "data_titanic.Embarked.value_counts().index[0]"
      ],
      "metadata": {
        "id": "kOPp0bNRN8x5"
      },
      "execution_count": null,
      "outputs": []
    },
    {
      "cell_type": "code",
      "source": [
        "data_titanic.Embarked.fillna('S', inplace=True)"
      ],
      "metadata": {
        "id": "geTlf-x4OV7u"
      },
      "execution_count": null,
      "outputs": []
    },
    {
      "cell_type": "markdown",
      "source": [
        "Проверим что все пропуски заполнены"
      ],
      "metadata": {
        "id": "qiVvWnIJPYgc"
      }
    },
    {
      "cell_type": "code",
      "source": [
        "data_titanic.isnull().sum().sum()"
      ],
      "metadata": {
        "id": "LqzILY-PPWoP"
      },
      "execution_count": null,
      "outputs": []
    },
    {
      "cell_type": "code",
      "source": [
        "tips = sns.load_dataset('tips')\n",
        "tips.head(3)"
      ],
      "metadata": {
        "id": "-mtogzKrPhyp"
      },
      "execution_count": null,
      "outputs": []
    },
    {
      "cell_type": "markdown",
      "source": [
        "Посмотрим на процент выживших"
      ],
      "metadata": {
        "id": "zXV2oooQY69S"
      }
    },
    {
      "cell_type": "code",
      "source": [
        "data_titanic.Survived.value_counts()"
      ],
      "metadata": {
        "id": "ppenzdpmY-d1"
      },
      "execution_count": null,
      "outputs": []
    },
    {
      "cell_type": "code",
      "source": [
        "sns.countplot(x='Survived', data=data_titanic);"
      ],
      "metadata": {
        "id": "dhpodqDtaOaE"
      },
      "execution_count": null,
      "outputs": []
    },
    {
      "cell_type": "code",
      "source": [
        "data_titanic.Survived.value_counts(normalize=True).round(3)"
      ],
      "metadata": {
        "id": "e5J7Z4VHZDfj"
      },
      "execution_count": null,
      "outputs": []
    },
    {
      "cell_type": "code",
      "source": [
        "sns.barplot(x=data_titanic.Survived,\n",
        "            y=data_titanic.Survived.value_counts(normalize=True));"
      ],
      "metadata": {
        "id": "0t52N_a1ZODZ"
      },
      "execution_count": null,
      "outputs": []
    },
    {
      "cell_type": "markdown",
      "source": [
        "# Гипотеза 1\n",
        "Выживаемость пассажиров зависит от класса"
      ],
      "metadata": {
        "id": "ppG5AgUZKcdd"
      }
    },
    {
      "cell_type": "code",
      "source": [
        "sns.countplot(y='Pclass', hue='Survived', data=data_titanic);\n",
        "plt.xlabel('Кол-во пассажиров')\n",
        "plt.ylabel('Класс пассажира')\n",
        "plt.title('Выживаемость пассажиров в зависимости от класса');"
      ],
      "metadata": {
        "id": "Y0EitaPFaHo3"
      },
      "execution_count": null,
      "outputs": []
    },
    {
      "cell_type": "code",
      "source": [
        "# найдем % выживших по каждому классу и сделаем вывод какой класс безопаснее\n",
        "class_and_survive = data_titanic.groupby('Pclass')['Survived'].value_counts()\n",
        "class_and_survive"
      ],
      "metadata": {
        "id": "3rOYmBDpLMaH"
      },
      "execution_count": null,
      "outputs": []
    },
    {
      "cell_type": "code",
      "source": [
        "# оставим информацию только о выживших\n",
        "# для это создадим таблицу сопряженноси\n",
        "\n",
        "table_class_surv = pd.crosstab(index=data_titanic.Pclass, columns=data_titanic.Survived)\n",
        "table_class_surv"
      ],
      "metadata": {
        "id": "9sHEDkQgJ2GH"
      },
      "execution_count": null,
      "outputs": []
    },
    {
      "cell_type": "code",
      "source": [
        "name_of_lines = ['Class_1', 'Class_2', 'Class_3']\n",
        "names_of_columns = ['Died', 'Survived']\n",
        "\n",
        "table_class_surv.index = name_of_lines\n",
        "table_class_surv.columns = names_of_columns\n",
        "table_class_surv"
      ],
      "metadata": {
        "id": "GDkdyy-oLTeS"
      },
      "execution_count": null,
      "outputs": []
    },
    {
      "cell_type": "code",
      "source": [
        "# на основе новой таблицы можем постоить график только для выживших\n",
        "plt.figure(figsize=(15, 10));\n",
        "sns.catplot(x='Survived', y=table_class_surv.index, data=table_class_surv, kind='bar', orient='h')\n",
        "plt.title('Выживаемость пассажиров в зависимости от класса')\n",
        "plt.ylabel('Класс')\n",
        "plt.grid()\n",
        "plt.show()"
      ],
      "metadata": {
        "id": "JJlrR0AgLmWa"
      },
      "execution_count": null,
      "outputs": []
    },
    {
      "cell_type": "markdown",
      "source": [
        "*Вывод - больше всего выжило людей из первого класса(в абсолютном коэффициенте)*\n"
      ],
      "metadata": {
        "id": "apFTyDWnOKj9"
      }
    },
    {
      "cell_type": "markdown",
      "source": [
        "Посмотрим на выживаемость в относительном по классам."
      ],
      "metadata": {
        "id": "6xw3DCgbOYZG"
      }
    },
    {
      "cell_type": "code",
      "source": [
        "# уже смотрели на разбиение, а теперь посмотрим на процентное\n",
        "norm = data_titanic.groupby('Pclass')['Survived'].value_counts(normalize=True).round(2)\n",
        "norm"
      ],
      "metadata": {
        "id": "yj0mFWLSNCRb"
      },
      "execution_count": null,
      "outputs": []
    },
    {
      "cell_type": "code",
      "source": [
        "norm_data_frame = norm.unstack()\n",
        "\n",
        "norm_data_frame.columns\n",
        "\n"
      ],
      "metadata": {
        "id": "edX6m02JOiKW"
      },
      "execution_count": null,
      "outputs": []
    },
    {
      "cell_type": "code",
      "source": [
        "import matplotlib.pyplot as plt # еще раз импортируем\n",
        "\n",
        "fig, axes = plt.subplots(1, 2, figsize=(15, 10))\n",
        "\n",
        "axes[0].bar(norm_data_frame.index, norm_data_frame[1], color='green');\n",
        "axes[0].set_xlabel('Класс')\n",
        "axes[0].set_ylabel('Процент выживания по классу')\n",
        "axes[0].set_title('Выживаемость пассажиров в зависимости от класса')\n",
        "axes[0].grid()\n",
        "\n",
        "axes[1].bar(norm_data_frame.index, norm_data_frame[0], color='red');\n",
        "axes[1].set_xlabel('Класс')\n",
        "axes[1].set_ylabel('Процент выживания по классу')\n",
        "axes[1].set_title('Смертность пассажиров в зависимости от класса')\n",
        "axes[1].grid()\n",
        "\n",
        "\n",
        "plt.show()"
      ],
      "metadata": {
        "id": "T2YtDQsnOzJW"
      },
      "execution_count": null,
      "outputs": []
    },
    {
      "cell_type": "code",
      "source": [],
      "metadata": {
        "id": "JGM1pYKUWbz_"
      },
      "execution_count": null,
      "outputs": []
    },
    {
      "cell_type": "markdown",
      "source": [
        "Вывод: выживаемость связана с классом, в котором пассажир путешествовал. Больше всего выживших из класса_1, следовательно можно предположить, что либо более обеспеченных гостей выводили в первых рядах, либо их каюты находились ближе всех к спасательным шлюпкам."
      ],
      "metadata": {
        "id": "WkjNLvbZWN54"
      }
    }
  ]
}